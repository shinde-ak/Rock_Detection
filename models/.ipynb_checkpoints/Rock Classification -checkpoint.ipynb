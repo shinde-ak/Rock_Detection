{
 "cells": [
  {
   "cell_type": "raw",
   "metadata": {},
   "source": [
    "Steps:\n",
    "step 1: import the libraries\n",
    "step 2: Initialize the model\n",
    "step 3: Add the convolution 2-D layer (Size_of_image,how many feature detected)\n",
    "step 4: Add the MaxPolling layer(size of the max polling)\n",
    "step 5: Add Flattening layer (empty) - this acts as an input to the ANN\n",
    "step 6: Add hidden layer on ann (dimention ,init , activation)\n",
    "step 7: Add output layer on cnn (dimention =1 , init, activation= sigmoid)\n",
    "step 8: Import the dataset\n",
    "step 9: You have to apply Image processing techniques\n",
    "step 10: Compile (loss=binary_cross_entropy/cetegorical ,metrices=['accuracy'])\n",
    "step 11: fit (x,y,epochs)\n",
    "step 12: predict \n",
    "step 13: Save the model"
   ]
  },
  {
   "cell_type": "code",
   "execution_count": 80,
   "metadata": {},
   "outputs": [],
   "source": [
    "#importing the libraries\n",
    "from keras.models import Sequential\n",
    "from keras.layers import Dense\n",
    "from keras.layers import Convolution2D\n",
    "from keras.layers import MaxPooling2D\n",
    "from keras.layers import Flatten"
   ]
  },
  {
   "cell_type": "markdown",
   "metadata": {},
   "source": [
    "## preprocessing before importing the dataset - it will generate more images of the same photo to get it accrate"
   ]
  },
  {
   "cell_type": "code",
   "execution_count": 81,
   "metadata": {},
   "outputs": [],
   "source": [
    "from keras.preprocessing.image import ImageDataGenerator\n",
    "train_datagen=ImageDataGenerator(rescale=1./255,shear_range=0.2,zoom_range=0.2,horizontal_flip=True)\n",
    "test_datagen = ImageDataGenerator(rescale=1./255)"
   ]
  },
  {
   "cell_type": "code",
   "execution_count": 82,
   "metadata": {},
   "outputs": [
    {
     "name": "stdout",
     "output_type": "stream",
     "text": [
      "Found 624 images belonging to 3 classes.\n",
      "Found 311 images belonging to 3 classes.\n"
     ]
    }
   ],
   "source": [
    "x_train = train_datagen.flow_from_directory(r'C:\\Users\\akash\\Desktop\\Rock Classification\\Dataset\\trainset',target_size=(64,64),batch_size=16,class_mode='categorical')\n",
    "x_test = train_datagen.flow_from_directory(r'C:\\Users\\akash\\Desktop\\Rock Classification\\Dataset\\testset',target_size=(64,64),batch_size=16,class_mode='categorical')"
   ]
  },
  {
   "cell_type": "code",
   "execution_count": 83,
   "metadata": {},
   "outputs": [
    {
     "name": "stdout",
     "output_type": "stream",
     "text": [
      "{'Igneous rock': 0, 'Metamorphic rock': 1, 'Sedimentary rock': 2}\n"
     ]
    }
   ],
   "source": [
    "print(x_train.class_indices)"
   ]
  },
  {
   "cell_type": "code",
   "execution_count": 84,
   "metadata": {},
   "outputs": [],
   "source": [
    "#initialize the model\n",
    "model = Sequential()"
   ]
  },
  {
   "cell_type": "code",
   "execution_count": 85,
   "metadata": {},
   "outputs": [
    {
     "name": "stderr",
     "output_type": "stream",
     "text": [
      "C:\\Users\\sahil\\anaconda3\\lib\\site-packages\\ipykernel_launcher.py:1: UserWarning: Update your `Conv2D` call to the Keras 2 API: `Conv2D(32, (3, 3), input_shape=(64, 64, 3..., activation=\"relu\")`\n",
      "  \"\"\"Entry point for launching an IPython kernel.\n"
     ]
    }
   ],
   "source": [
    "model.add(Convolution2D(32,3,3,input_shape=(64,64,3),activation='relu'))\n",
    "#(32,(3,3)) - 32 defines no of features  , (3,3) - size of Convolution \n",
    "# (64,64,3) - as our dataset contain colored images so the input channel is 3,if it is b&w then 1 , (64,64) -size of image"
   ]
  },
  {
   "cell_type": "code",
   "execution_count": 86,
   "metadata": {},
   "outputs": [],
   "source": [
    "model.add(MaxPooling2D(pool_size=(2,2))) \n",
    "#(2,2) - size of pooling"
   ]
  },
  {
   "cell_type": "code",
   "execution_count": 87,
   "metadata": {},
   "outputs": [],
   "source": [
    "model.add(Flatten())"
   ]
  },
  {
   "cell_type": "code",
   "execution_count": 88,
   "metadata": {},
   "outputs": [
    {
     "name": "stderr",
     "output_type": "stream",
     "text": [
      "C:\\Users\\sahil\\anaconda3\\lib\\site-packages\\ipykernel_launcher.py:1: UserWarning: Update your `Dense` call to the Keras 2 API: `Dense(activation=\"relu\", units=128, kernel_initializer=\"random_uniform\")`\n",
      "  \"\"\"Entry point for launching an IPython kernel.\n"
     ]
    }
   ],
   "source": [
    "model.add(Dense(output_dim=128,activation='relu',init='random_uniform'))"
   ]
  },
  {
   "cell_type": "code",
   "execution_count": 89,
   "metadata": {},
   "outputs": [
    {
     "name": "stderr",
     "output_type": "stream",
     "text": [
      "C:\\Users\\sahil\\anaconda3\\lib\\site-packages\\ipykernel_launcher.py:1: UserWarning: Update your `Dense` call to the Keras 2 API: `Dense(activation=\"softmax\", units=3, kernel_initializer=\"random_uniform\")`\n",
      "  \"\"\"Entry point for launching an IPython kernel.\n"
     ]
    }
   ],
   "source": [
    "model.add(Dense(output_dim=3,activation='softmax',init='random_uniform'))"
   ]
  },
  {
   "cell_type": "code",
   "execution_count": 90,
   "metadata": {},
   "outputs": [],
   "source": [
    "model.compile(optimizer='adam',loss='categorical_crossentropy',metrics=['accuracy'])"
   ]
  },
  {
   "cell_type": "code",
   "execution_count": 91,
   "metadata": {},
   "outputs": [
    {
     "name": "stdout",
     "output_type": "stream",
     "text": [
      "Epoch 1/20\n",
      "39/39 [==============================] - 21s 539ms/step - loss: 1.1556 - accuracy: 0.3798 - val_loss: 1.0910 - val_accuracy: 0.3215\n",
      "Epoch 2/20\n",
      "39/39 [==============================] - 14s 370ms/step - loss: 1.0785 - accuracy: 0.4151 - val_loss: 1.1730 - val_accuracy: 0.3344\n",
      "Epoch 3/20\n",
      "39/39 [==============================] - 12s 315ms/step - loss: 1.0529 - accuracy: 0.4583 - val_loss: 1.1517 - val_accuracy: 0.4212\n",
      "Epoch 4/20\n",
      "39/39 [==============================] - 13s 333ms/step - loss: 1.0213 - accuracy: 0.4663 - val_loss: 1.0504 - val_accuracy: 0.3505\n",
      "Epoch 5/20\n",
      "39/39 [==============================] - 13s 324ms/step - loss: 1.0327 - accuracy: 0.4760 - val_loss: 0.9517 - val_accuracy: 0.3666\n",
      "Epoch 6/20\n",
      "39/39 [==============================] - 13s 332ms/step - loss: 1.0032 - accuracy: 0.4920 - val_loss: 1.1827 - val_accuracy: 0.4727\n",
      "Epoch 7/20\n",
      "39/39 [==============================] - 13s 341ms/step - loss: 0.9819 - accuracy: 0.5240 - val_loss: 1.2020 - val_accuracy: 0.3730\n",
      "Epoch 8/20\n",
      "39/39 [==============================] - 13s 345ms/step - loss: 0.9954 - accuracy: 0.5224 - val_loss: 1.0876 - val_accuracy: 0.4309\n",
      "Epoch 9/20\n",
      "39/39 [==============================] - 13s 323ms/step - loss: 0.9622 - accuracy: 0.5272 - val_loss: 1.0780 - val_accuracy: 0.4469\n",
      "Epoch 10/20\n",
      "39/39 [==============================] - 12s 320ms/step - loss: 0.9434 - accuracy: 0.5304 - val_loss: 1.0212 - val_accuracy: 0.4662\n",
      "Epoch 11/20\n",
      "39/39 [==============================] - 13s 325ms/step - loss: 0.9334 - accuracy: 0.5369 - val_loss: 1.5008 - val_accuracy: 0.4662\n",
      "Epoch 12/20\n",
      "39/39 [==============================] - 13s 325ms/step - loss: 0.8907 - accuracy: 0.5913 - val_loss: 0.9691 - val_accuracy: 0.4630\n",
      "Epoch 13/20\n",
      "39/39 [==============================] - 13s 325ms/step - loss: 0.9083 - accuracy: 0.5577 - val_loss: 1.1710 - val_accuracy: 0.4534\n",
      "Epoch 14/20\n",
      "39/39 [==============================] - 13s 322ms/step - loss: 0.8693 - accuracy: 0.6122 - val_loss: 1.4896 - val_accuracy: 0.4598\n",
      "Epoch 15/20\n",
      "39/39 [==============================] - 13s 324ms/step - loss: 0.8744 - accuracy: 0.5753 - val_loss: 0.8496 - val_accuracy: 0.5145\n",
      "Epoch 16/20\n",
      "39/39 [==============================] - 13s 330ms/step - loss: 0.8555 - accuracy: 0.6074 - val_loss: 1.2219 - val_accuracy: 0.4952\n",
      "Epoch 17/20\n",
      "39/39 [==============================] - 13s 326ms/step - loss: 0.8305 - accuracy: 0.6170 - val_loss: 1.1290 - val_accuracy: 0.4244\n",
      "Epoch 18/20\n",
      "39/39 [==============================] - 13s 325ms/step - loss: 0.8410 - accuracy: 0.6010 - val_loss: 0.7740 - val_accuracy: 0.5048\n",
      "Epoch 19/20\n",
      "39/39 [==============================] - 13s 323ms/step - loss: 0.7988 - accuracy: 0.6426 - val_loss: 1.5675 - val_accuracy: 0.4887\n",
      "Epoch 20/20\n",
      "39/39 [==============================] - 12s 320ms/step - loss: 0.7731 - accuracy: 0.6330 - val_loss: 1.3861 - val_accuracy: 0.4469\n"
     ]
    },
    {
     "data": {
      "text/plain": [
       "<keras.callbacks.callbacks.History at 0x5d3bdad648>"
      ]
     },
     "execution_count": 91,
     "metadata": {},
     "output_type": "execute_result"
    }
   ],
   "source": [
    "model.fit_generator(x_train,steps_per_epoch=39,validation_data=x_test,validation_steps=20,epochs=20)"
   ]
  },
  {
   "cell_type": "code",
   "execution_count": 93,
   "metadata": {},
   "outputs": [],
   "source": [
    "model.save('rock_classification.h5')"
   ]
  },
  {
   "cell_type": "code",
   "execution_count": null,
   "metadata": {},
   "outputs": [],
   "source": []
  }
 ],
 "metadata": {
  "kernelspec": {
   "display_name": "Python 3 (ipykernel)",
   "language": "python",
   "name": "python3"
  },
  "language_info": {
   "codemirror_mode": {
    "name": "ipython",
    "version": 3
   },
   "file_extension": ".py",
   "mimetype": "text/x-python",
   "name": "python",
   "nbconvert_exporter": "python",
   "pygments_lexer": "ipython3",
   "version": "3.9.6"
  }
 },
 "nbformat": 4,
 "nbformat_minor": 4
}
